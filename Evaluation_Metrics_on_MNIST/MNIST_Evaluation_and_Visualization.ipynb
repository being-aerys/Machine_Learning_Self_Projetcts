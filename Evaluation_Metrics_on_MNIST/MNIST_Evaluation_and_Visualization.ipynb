{
 "cells": [
  {
   "cell_type": "code",
   "execution_count": 1,
   "metadata": {},
   "outputs": [],
   "source": [
    "#-----------------------------------------Using alternative url becauuse the standard way isnt working\n",
    "from six.moves import urllib\n",
    "from sklearn.datasets import fetch_mldata\n",
    "\n",
    "from scipy.io import loadmat\n",
    "mnist_alternative_url = \"https://github.com/amplab/datascience-sp14/raw/master/lab7/mldata/mnist-original.mat\"\n",
    "mnist_path = \"./mnist-original.mat\"\n",
    "response = urllib.request.urlopen(mnist_alternative_url)\n",
    "with open(mnist_path, \"wb\") as f:\n",
    "    content = response.read()\n",
    "    f.write(content)\n",
    "mnist_raw = loadmat(mnist_path)\n",
    "mnist = {\n",
    "    \"data\": mnist_raw[\"data\"].T,\n",
    "    \"target\": mnist_raw[\"label\"][0],\n",
    "    \"COL_NAMES\": [\"label\", \"data\"],\n",
    "    \"DESCR\": \"mldata.org dataset: mnist-original\",\n",
    "}"
   ]
  },
  {
   "cell_type": "code",
   "execution_count": 2,
   "metadata": {},
   "outputs": [],
   "source": [
    "X, y = mnist[\"data\"],mnist[\"target\"]"
   ]
  },
  {
   "cell_type": "code",
   "execution_count": 3,
   "metadata": {},
   "outputs": [],
   "source": [
    "%matplotlib inline\n",
    "import matplotlib\n",
    "import matplotlib.pyplot as plt\n",
    "import math"
   ]
  },
  {
   "cell_type": "code",
   "execution_count": 4,
   "metadata": {},
   "outputs": [
    {
     "data": {
      "image/png": "[encoded data removed]",
      "text/plain": [
       "<Figure size 432x288 with 1 Axes>"
      ]
     },
     "metadata": {
      "needs_background": "light"
     },
     "output_type": "display_data"
    },
    {
     "name": "stdout",
     "output_type": "stream",
     "text": [
      "The corrseponding label for the image is  3.0\n"
     ]
    }
   ],
   "source": [
    "#lets see some random digit\n",
    "random_digit = X[23000]\n",
    "#random_digit.shape--------------> (784,1) = (28 * 28 ,1)\n",
    "random_digit_image = random_digit.reshape(28,28)\n",
    "plt.imshow(random_digit_image, cmap = matplotlib.cm.binary)#------>not using cmap returns a colored image.\n",
    "plt.axis(\"off\")\n",
    "plt.show()\n",
    "print(\"The corrseponding label for the image is \", y[23000])"
   ]
  },
  {
   "cell_type": "code",
   "execution_count": 5,
   "metadata": {},
   "outputs": [],
   "source": [
    "X_train, X_test, y_train, y_test = X[:60000],X[60000:],y[:60000],y[60000:]"
   ]
  },
  {
   "cell_type": "code",
   "execution_count": 6,
   "metadata": {},
   "outputs": [],
   "source": [
    "#shuffle the training data features and labels together. By default, the numbers are not shuffled in MNIST\n",
    "import numpy as np\n",
    "shuffled_indices = np.random.permutation(60000)#-------shuffles the numbers from 1 to 60k\n",
    "X_train, y_train = X_train[shuffled_indices],y_train[shuffled_indices]"
   ]
  },
  {
   "cell_type": "code",
   "execution_count": 7,
   "metadata": {},
   "outputs": [
    {
     "name": "stderr",
     "output_type": "stream",
     "text": [
      "/home/being-aerys/.local/lib/python3.5/site-packages/sklearn/ensemble/forest.py:246: FutureWarning: The default value of n_estimators will change from 10 in version 0.20 to 100 in 0.22.\n",
      "  \"10 in version 0.20 to 100 in 0.22.\", FutureWarning)\n"
     ]
    },
    {
     "name": "stdout",
     "output_type": "stream",
     "text": [
      "[[ 961    0    3    0    0    4    7    1    3    1]\n",
      " [   0 1118    3    4    0    1    4    1    4    0]\n",
      " [  10    3  989    2    5    2    5    7    8    1]\n",
      " [   5    2   12  954    0   14    0    9   10    4]\n",
      " [   1    0    7    0  940    1    4    5    2   22]\n",
      " [   5    2    5   30    4  826    5    2    7    6]\n",
      " [   9    3    3    2    9    7  920    1    3    1]\n",
      " [   2    6   20    5    4    0    0  974    3   14]\n",
      " [  11    0   14   26    8   13    8    4  884    6]\n",
      " [   8    3    4   12   24    6    2   12    9  929]]\n"
     ]
    }
   ],
   "source": [
    "from sklearn.model_selection import cross_val_score\n",
    "from sklearn.ensemble import RandomForestClassifier\n",
    "from sklearn.metrics import confusion_matrix\n",
    "random_forest = RandomForestClassifier()\n",
    "random_forest.fit(X_train,y_train)#---------------------------->train\n",
    "predictions = random_forest.predict(X_test)#------------------->predict\n",
    "confusion_mtx = confusion_matrix(y_test,predictions)\n",
    "print(confusion_mtx)"
   ]
  },
  {
   "cell_type": "code",
   "execution_count": 8,
   "metadata": {},
   "outputs": [
    {
     "name": "stdout",
     "output_type": "stream",
     "text": [
      "precision: [0.94960474 0.98328936 0.93301887 0.92173913 0.94567404 0.94508009\n",
      " 0.96335079 0.95866142 0.94748124 0.94410569]\n",
      "recall: [0.98061224 0.98502203 0.95833333 0.94455446 0.95723014 0.92600897\n",
      " 0.96033403 0.94747082 0.90759754 0.92071358]\n",
      "fscore: [0.96485944 0.98415493 0.94550669 0.93300733 0.951417   0.93544734\n",
      " 0.96184004 0.95303327 0.92711064 0.93226292]\n",
      "support: [ 980 1135 1032 1010  982  892  958 1028  974 1009]\n"
     ]
    }
   ],
   "source": [
    "from sklearn.metrics import precision_recall_fscore_support as score\n",
    "precision, recall, fscore, support = score(y_test, predictions)\n",
    "print('precision: {}'.format(precision))\n",
    "print('recall: {}'.format(recall))\n",
    "print('fscore: {}'.format(fscore))\n",
    "print('support: {}'.format(support))\n",
    "#write a function to use the 3 things calculated above to plot the precision recall curve\n"
   ]
  },
  {
   "cell_type": "code",
   "execution_count": null,
   "metadata": {},
   "outputs": [],
   "source": []
  },
  {
   "cell_type": "code",
   "execution_count": 18,
   "metadata": {},
   "outputs": [
    {
     "name": "stdout",
     "output_type": "stream",
     "text": [
      "10000\n"
     ]
    }
   ],
   "source": [
    "#To look at precision-recall curve, let us convert our MNIST multi-class dataset into a binary dataset that \n",
    "#only has label either hotdog or not-hotdog ;D (Jian Yang Effect)\n",
    "y_train_for_9 = (y_train == 9)#directly converts those which do not satisfy to False\n",
    "y_test_for_9 = (y_test == 9)\n"
   ]
  },
  {
   "cell_type": "code",
   "execution_count": 38,
   "metadata": {},
   "outputs": [],
   "source": [
    "#cross_val_score returns score of test fold where cross_val_predict returns predicted y values for the test fold.\n",
    "#VVI: Every time you want to do k-fold CrossValidation, create stratified training folds first.\n",
    "#StratifiedKFold is a variation of KFold that returns stratified folds. \n",
    "#The folds are made by preserving the percentage of samples for each class.\n",
    "\n",
    "from sklearn.model_selection import StratifiedKFold #not StratifiedShuffledSplit\n",
    "from sklearn.base import clone\n",
    "# from sklearn.linear_model import SGDClassifier\n",
    "\n",
    "# sgd_classifier = SGDClassifier(random_state = 42)\n",
    "#note: Remember that you are using kFold validation only for comparing different classifiers\n",
    "#you average the scores from different folds to get the performance of a classifier\n",
    "#leave test data alone, use training data for k fold validation in general"
   ]
  },
  {
   "cell_type": "code",
   "execution_count": 39,
   "metadata": {},
   "outputs": [
    {
     "name": "stdout",
     "output_type": "stream",
     "text": [
      "0.9761\n",
      "0.97715\n",
      "0.9752\n"
     ]
    }
   ],
   "source": [
    "stratified_folds = StratifiedKFold(n_splits = 3, random_state = 42)\n",
    "#calculate the accuracy for each classifier clone for the fold it is working on using stratified k folds rather\n",
    "#than directly performing k fold\n",
    "for training_index_of_fold, testing_index_of_fold in stratified_folds.split(X_train, y_train_for_9):\n",
    "    \n",
    "    clone_of_classifier_for_this_fold = clone(random_forest)\n",
    "    \n",
    "    X_traing_for_this_fold = X_train[training_index_of_fold]\n",
    "    y_train_for_this_fold = y_train_for_9[training_index_of_fold]\n",
    "    X_test_for_this_fold = X_train[testing_index_of_fold]\n",
    "    y_test_for_this_fold = y_train_for_9[testing_index_of_fold]\n",
    "    \n",
    "    clone_of_classifier_for_this_fold.fit(X_traing_for_this_fold, y_train_for_this_fold)\n",
    "    y_predictions_for_this_fold = clone_of_classifier_for_this_fold.predict(X_test_for_this_fold)\n",
    "    total_accurate_for_this_fold = sum( y_predictions_for_this_fold == y_test_for_this_fold)\n",
    "    print(total_accurate_for_this_fold/ len(y_predictions_for_this_fold))"
   ]
  },
  {
   "cell_type": "code",
   "execution_count": 40,
   "metadata": {},
   "outputs": [
    {
     "name": "stdout",
     "output_type": "stream",
     "text": [
      "[0.97615 0.97815 0.9761 ]\n"
     ]
    }
   ],
   "source": [
    "#However, cross_val_score() method does the same thing above by default i.e., creates stratified flods from the\n",
    "#training data and calculates cross-validation accuracy for each fold\n",
    "#However, accuracy is not the only metric you care about for the reasons that you already know.\n",
    "#Instead you might want to look at precision, recall, etc.\n",
    "#FOr that you have cross_val_predict which instead of returning the same accuracy as above returns raw predictions\n",
    "#for each training data k fold\n",
    "\n",
    "#VVI: Note that since a sample appears only once on the test set, only one prediction is returned\n",
    "#for a sample during k fold\n",
    "\n",
    "from sklearn.model_selection import cross_val_score\n",
    "cross_val_score_ = cross_val_score(random_forest, X_train,y_train_for_9,cv = 3, scoring = \"accuracy\")\n",
    "print(cross_val_score_) #for some reason, returns slightly different values than above but is essentially doing\n",
    "#the same thing"
   ]
  },
  {
   "cell_type": "code",
   "execution_count": 41,
   "metadata": {},
   "outputs": [
    {
     "name": "stdout",
     "output_type": "stream",
     "text": [
      "[[53929   122]\n",
      " [ 1250  4699]]\n"
     ]
    }
   ],
   "source": [
    "from sklearn.model_selection import cross_val_predict\n",
    "y_train_9_prediction = cross_val_predict(random_forest, X_train, y_train_for_9, cv = 3)\n",
    "from sklearn.metrics import confusion_matrix\n",
    "print(confusion_matrix(y_train_for_9,y_train_9_prediction))"
   ]
  },
  {
   "cell_type": "code",
   "execution_count": 42,
   "metadata": {},
   "outputs": [
    {
     "name": "stdout",
     "output_type": "stream",
     "text": [
      "Precision, Recall, F1 Score:  0.974694046878241 0.7898806522104556 0.8726090993500464\n"
     ]
    }
   ],
   "source": [
    "from sklearn.metrics import precision_score, recall_score, f1_score\n",
    "print(\"Precision, Recall, F1 Score: \",precision_score(y_train_for_9,y_train_9_prediction),\n",
    "                                        recall_score(y_train_for_9,y_train_9_prediction),\n",
    "                                         f1_score(y_train_for_9,y_train_9_prediction))"
   ]
  },
  {
   "cell_type": "code",
   "execution_count": 43,
   "metadata": {},
   "outputs": [
    {
     "data": {
      "image/png": "[encoded data removed]",
      "text/plain": [
       "<Figure size 432x288 with 1 Axes>"
      ]
     },
     "metadata": {
      "needs_background": "light"
     },
     "output_type": "display_data"
    }
   ],
   "source": [
    "#TO draw a precision-recall graph acccording to different thresholds\n",
    "from sklearn.metrics import precision_recall_curve\n",
    "precisions, recalls, thresholds = precision_recall_curve(y_train_for_9, y_train_9_prediction)\n",
    "\n",
    "#However, you need to plot the precision-recall curve by defining a function yourself\n",
    "def plot_precision_recall_acc_to_threshold(precisions, recalls, thresholds):\n",
    "    plt.plot(thresholds, precisions[:-1],\"g--\",label = \"Precision\")\n",
    "    plt.plot(thresholds, recalls[:-1],\"b--\",label = \"Recall\")\n",
    "    plt.xlabel(\"Threshold\")\n",
    "    plt.legend(loc = \"upper left\")\n",
    "    plt.ylim([0,1])\n",
    "\n",
    "plot_precision_recall_acc_to_threshold(precisions,recalls,thresholds)\n",
    "plt.show()"
   ]
  },
  {
   "cell_type": "code",
   "execution_count": null,
   "metadata": {},
   "outputs": [],
   "source": []
  }
 ],
 "metadata": {
  "kernelspec": {
   "display_name": "Python 3",
   "language": "python",
   "name": "python3"
  },
  "language_info": {
   "codemirror_mode": {
    "name": "ipython",
    "version": 3
   },
   "file_extension": ".py",
   "mimetype": "text/x-python",
   "name": "python",
   "nbconvert_exporter": "python",
   "pygments_lexer": "ipython3",
   "version": "3.5.2"
  }
 },
 "nbformat": 4,
 "nbformat_minor": 2
}
