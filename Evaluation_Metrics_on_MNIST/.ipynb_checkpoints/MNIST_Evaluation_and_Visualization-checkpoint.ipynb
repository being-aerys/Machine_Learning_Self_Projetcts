{
 "cells": [
  {
   "cell_type": "code",
   "execution_count": 2,
   "metadata": {},
   "outputs": [],
   "source": [
    "#-----------------------------------------Using alternative url becauuse the standard way isnt working\n",
    "from six.moves import urllib\n",
    "from sklearn.datasets import fetch_mldata\n",
    "\n",
    "from scipy.io import loadmat\n",
    "mnist_alternative_url = \"https://github.com/amplab/datascience-sp14/raw/master/lab7/mldata/mnist-original.mat\"\n",
    "mnist_path = \"./mnist-original.mat\"\n",
    "response = urllib.request.urlopen(mnist_alternative_url)\n",
    "with open(mnist_path, \"wb\") as f:\n",
    "    content = response.read()\n",
    "    f.write(content)\n",
    "mnist_raw = loadmat(mnist_path)\n",
    "mnist = {\n",
    "    \"data\": mnist_raw[\"data\"].T,\n",
    "    \"target\": mnist_raw[\"label\"][0],\n",
    "    \"COL_NAMES\": [\"label\", \"data\"],\n",
    "    \"DESCR\": \"mldata.org dataset: mnist-original\",\n",
    "}"
   ]
  },
  {
   "cell_type": "code",
   "execution_count": 4,
   "metadata": {},
   "outputs": [],
   "source": [
    "X, y = mnist[\"data\"],mnist[\"target\"]"
   ]
  },
  {
   "cell_type": "code",
   "execution_count": 9,
   "metadata": {},
   "outputs": [],
   "source": [
    "%matplotlib inline\n",
    "import matplotlib\n",
    "import matplotlib.pyplot as plt\n",
    "import math"
   ]
  },
  {
   "cell_type": "code",
   "execution_count": 28,
   "metadata": {},
   "outputs": [
    {
     "data": {
      "image/png": "[encoded data removed]",
      "text/plain": [
       "<Figure size 432x288 with 1 Axes>"
      ]
     },
     "metadata": {
      "needs_background": "light"
     },
     "output_type": "display_data"
    },
    {
     "name": "stdout",
     "output_type": "stream",
     "text": [
      "The corrseponding label for the image is  3.0\n"
     ]
    }
   ],
   "source": [
    "#lets see some random digit\n",
    "random_digit = X[23000]\n",
    "#random_digit.shape--------------> (784,1) = (28 * 28 ,1)\n",
    "random_digit_image = random_digit.reshape(28,28)\n",
    "plt.imshow(random_digit_image, cmap = matplotlib.cm.binary)#------>not using cmap returns a colored image.\n",
    "plt.axis(\"off\")\n",
    "plt.show()\n",
    "print(\"The corrseponding label for the image is \", y[23000])"
   ]
  },
  {
   "cell_type": "code",
   "execution_count": 29,
   "metadata": {},
   "outputs": [],
   "source": [
    "X_train, X_test, y_train, y_test = X[:60000],X[60000:],y[:60000],y[60000:]"
   ]
  },
  {
   "cell_type": "code",
   "execution_count": 34,
   "metadata": {},
   "outputs": [],
   "source": [
    "#shuffle the training data features and labels together. By default, the numbers are not shuffled in MNIST\n",
    "import numpy as np\n",
    "shuffled_indices = np.random.permutation(60000)#-------shuffles the numbers from 1 to 60k\n",
    "X_train, y_train = X_train[shuffled_indices],y_train[shuffled_indices]"
   ]
  },
  {
   "cell_type": "code",
   "execution_count": 36,
   "metadata": {},
   "outputs": [
    {
     "name": "stderr",
     "output_type": "stream",
     "text": [
      "/home/being-aerys/.local/lib/python3.5/site-packages/sklearn/ensemble/forest.py:246: FutureWarning: The default value of n_estimators will change from 10 in version 0.20 to 100 in 0.22.\n",
      "  \"10 in version 0.20 to 100 in 0.22.\", FutureWarning)\n"
     ]
    },
    {
     "name": "stdout",
     "output_type": "stream",
     "text": [
      "[[ 964    0    0    1    1    3    7    1    3    0]\n",
      " [   0 1122    3    2    1    2    1    0    3    1]\n",
      " [   7    1  985    8    6    1    2   13    8    1]\n",
      " [   4    0   18  942    0   15    1   12   13    5]\n",
      " [   3    4    7    1  934    0    6    1    3   23]\n",
      " [   4    3    4   26    4  832    5    3    8    3]\n",
      " [   9    5    3    0    7    9  922    0    3    0]\n",
      " [   1    8   19    6    3    0    0  975    2   14]\n",
      " [   6    0   15   22    7   15    3    7  892    7]\n",
      " [   8    5    3   13   27    5    1    7    3  937]]\n"
     ]
    }
   ],
   "source": [
    "from sklearn.model_selection import cross_val_score\n",
    "from sklearn.ensemble import RandomForestClassifier\n",
    "from sklearn.metrics import confusion_matrix\n",
    "random_forest = RandomForestClassifier()\n",
    "random_forest.fit(X_train,y_train)#---------------------------->train\n",
    "predictions = random_forest.predict(X_test)#------------------->predict\n",
    "confusion_mtx = confusion_matrix(y_test,predictions)\n",
    "print(confusion_mtx)"
   ]
  },
  {
   "cell_type": "code",
   "execution_count": 51,
   "metadata": {},
   "outputs": [
    {
     "name": "stdout",
     "output_type": "stream",
     "text": [
      "precision: [0.9582505  0.97735192 0.93188269 0.92262488 0.94343434 0.94331066\n",
      " 0.97257384 0.95682041 0.95095949 0.94550959]\n",
      "recall: [0.98367347 0.98854626 0.95445736 0.93267327 0.95112016 0.93273543\n",
      " 0.96242171 0.94844358 0.91581109 0.92864222]\n",
      "fscore: [0.97079557 0.98291721 0.94303494 0.92762186 0.94726166 0.93799324\n",
      " 0.96747114 0.95261358 0.93305439 0.937     ]\n",
      "support: [ 980 1135 1032 1010  982  892  958 1028  974 1009]\n"
     ]
    }
   ],
   "source": [
    "from sklearn.metrics import precision_recall_fscore_support as score\n",
    "precision, recall, fscore, support = score(y_test, predictions)\n",
    "print('precision: {}'.format(precision))\n",
    "print('recall: {}'.format(recall))\n",
    "print('fscore: {}'.format(fscore))\n",
    "print('support: {}'.format(support))\n",
    "#write a function to use the 3 things calculated above to plot the precision recall curve\n"
   ]
  },
  {
   "cell_type": "code",
   "execution_count": null,
   "metadata": {},
   "outputs": [],
   "source": [
    "#To look at precision-recall curve, let us convert our MNIST multi-class dataset into a binary"
   ]
  }
 ],
 "metadata": {
  "kernelspec": {
   "display_name": "Python 3",
   "language": "python",
   "name": "python3"
  },
  "language_info": {
   "codemirror_mode": {
    "name": "ipython",
    "version": 3
   },
   "file_extension": ".py",
   "mimetype": "text/x-python",
   "name": "python",
   "nbconvert_exporter": "python",
   "pygments_lexer": "ipython3",
   "version": "3.5.2"
  }
 },
 "nbformat": 4,
 "nbformat_minor": 2
}
