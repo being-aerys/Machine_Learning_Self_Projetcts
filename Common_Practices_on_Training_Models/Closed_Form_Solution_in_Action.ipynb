{
 "cells": [
  {
   "cell_type": "code",
   "execution_count": null,
   "metadata": {},
   "outputs": [],
   "source": [
    "#Seeing Closed-Form solution in action\n",
    "#You might want to read this as well: \n",
    "#https://stats.stackexchange.com/questions/23128/solving-for-regression-parameters-in-closed-form-vs-gradient-descent"
   ]
  },
  {
   "cell_type": "code",
   "execution_count": 15,
   "metadata": {},
   "outputs": [],
   "source": [
    "import numpy as np\n",
    "import time\n",
    "import matplotlib.pyplot as plt"
   ]
  },
  {
   "cell_type": "code",
   "execution_count": 8,
   "metadata": {},
   "outputs": [],
   "source": [
    "#generate some random samples of data X with a single feature x1 for each sample\n",
    "X = 5 * np.random.rand(100,1)#generates a 100*1 matrix with random values between 0 and 1, multiplied by 5\n",
    "#Note:numpy.random.rand() Returns a sample (or samples) from the “standard normal” distribution. i.e.,\n",
    "#mean  = 0, stdev = 1\n",
    "y = 3 + 2 *(X) + np.random.rand(100,1) #generating the true target with an addition of Gaussian noise"
   ]
  },
  {
   "cell_type": "code",
   "execution_count": 9,
   "metadata": {},
   "outputs": [],
   "source": [
    "#Closed form solution for a linear function as such is given by\n",
    "#theta = [(X.transpose * X)].inverse * [X.transpose] * y"
   ]
  },
  {
   "cell_type": "code",
   "execution_count": 10,
   "metadata": {},
   "outputs": [],
   "source": [
    "#To accomodate the bias term theta_zero in the linear system, we also add an extra feature x_0 and set it to 1\n",
    "feature_matrix = np.c_[np.ones((100,1)),X]#including  the extra feature x_0\n",
    "#np.c_ does columnwise stacking of the matrices\n",
    "closed_form_solution = np.linalg.inv(feature_matrix.T.dot(feature_matrix)).dot(feature_matrix.T).dot(y)"
   ]
  },
  {
   "cell_type": "code",
   "execution_count": 11,
   "metadata": {},
   "outputs": [
    {
     "name": "stdout",
     "output_type": "stream",
     "text": [
      "[[3.42268785]\n",
      " [2.01645985]]\n"
     ]
    }
   ],
   "source": [
    "print(closed_form_solution)"
   ]
  },
  {
   "cell_type": "code",
   "execution_count": null,
   "metadata": {},
   "outputs": [],
   "source": [
    "#As you can see while we used theta_0 = 3 and theta_1 = 2, we got theta_0 = 3.42 and theta_1 = 2.01 using the \n",
    "#closed-form method. We can use these parameters to make predictions for new samples generated from the same\n",
    "#distribution."
   ]
  },
  {
   "cell_type": "code",
   "execution_count": null,
   "metadata": {},
   "outputs": [],
   "source": [
    "new_X_to_predict = np.random.rand(100,1)\n",
    "new_X_with_bias_term = np.c_[new_X_to_predict, np.ones((100,1))]\n",
    "y_predictions = new_X_with_bias_term.dot(closed_form_solutoin)\n",
    "print(y_predictions)"
   ]
  },
  {
   "cell_type": "code",
   "execution_count": 16,
   "metadata": {},
   "outputs": [
    {
     "data": {
      "image/png": "[encoded data removed]",
      "text/plain": [
       "<Figure size 432x288 with 1 Axes>"
      ]
     },
     "metadata": {
      "needs_background": "light"
     },
     "output_type": "display_data"
    }
   ],
   "source": [
    "#Lets see the model predictions\n",
    "plt.plot(new_X_to_predict,y_predictions,\"-r\")\n",
    "plt.plot(X,y,\"b.\")\n",
    "plt.axis([0,2,0,15])#range of the x and y axes to display\n",
    "plt.show()\n"
   ]
  },
  {
   "cell_type": "code",
   "execution_count": null,
   "metadata": {},
   "outputs": [],
   "source": []
  }
 ],
 "metadata": {
  "kernelspec": {
   "display_name": "Python 3",
   "language": "python",
   "name": "python3"
  },
  "language_info": {
   "codemirror_mode": {
    "name": "ipython",
    "version": 3
   },
   "file_extension": ".py",
   "mimetype": "text/x-python",
   "name": "python",
   "nbconvert_exporter": "python",
   "pygments_lexer": "ipython3",
   "version": "3.5.2"
  }
 },
 "nbformat": 4,
 "nbformat_minor": 2
}
